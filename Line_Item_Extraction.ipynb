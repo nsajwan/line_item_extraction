{
  "nbformat": 4,
  "nbformat_minor": 0,
  "metadata": {
    "colab": {
      "name": "Line Item Extraction.ipynb",
      "provenance": [],
      "collapsed_sections": [],
      "include_colab_link": true
    },
    "kernelspec": {
      "name": "python3",
      "display_name": "Python 3"
    },
    "accelerator": "GPU"
  },
  "cells": [
    {
      "cell_type": "markdown",
      "metadata": {
        "id": "view-in-github",
        "colab_type": "text"
      },
      "source": [
        "<a href=\"https://colab.research.google.com/github/nsajwan/line_item_extraction/blob/master/Line_Item_Extraction.ipynb\" target=\"_parent\"><img src=\"https://colab.research.google.com/assets/colab-badge.svg\" alt=\"Open In Colab\"/></a>"
      ]
    },
    {
      "cell_type": "markdown",
      "metadata": {
        "id": "8q-NrSjkPpo_",
        "colab_type": "text"
      },
      "source": [
        "# Bank statements Line Item Extraction\n",
        "Based on Cascade TableNet - https://github.com/DevashishPrasad/CascadeTabNet "
      ]
    },
    {
      "cell_type": "markdown",
      "metadata": {
        "id": "h3w-lUufPs1X",
        "colab_type": "text"
      },
      "source": [
        "## 1. Install all the prerequisite\n",
        "This will take a while, Remember to **Restart Runtime** after this step is done "
      ]
    },
    {
      "cell_type": "code",
      "metadata": {
        "id": "UEKJ_-iyPkdg",
        "colab_type": "code",
        "colab": {}
      },
      "source": [
        "!pip install torch==1.4.0+cu100 torchvision==0.5.0+cu100 -f https://download.pytorch.org/whl/torch_stable.html\n",
        "!pip install -q mmcv terminaltables\n",
        "!git clone --branch v1.2.0 'https://github.com/open-mmlab/mmdetection.git'\n",
        "%cd \"mmdetection\"\n",
        "!pip install -r \"/content/mmdetection/requirements/optional.txt\"\n",
        "!python setup.py install\n",
        "!python setup.py develop\n",
        "!pip install -r {\"requirements.txt\"}\n",
        "!pip install pillow==6.2.1 \n",
        "!pip install mmcv==0.4.3\n",
        "%cd \"/content\"\n",
        "!apt-get install poppler-utils\n",
        "!pip install pdf2image\n",
        "!pip install pdfminer.six\n",
        "!pip install Pillow"
      ],
      "execution_count": null,
      "outputs": []
    },
    {
      "cell_type": "markdown",
      "metadata": {
        "id": "ElH_dg6mQaWv",
        "colab_type": "text"
      },
      "source": [
        "## 2. Clone the Repository"
      ]
    },
    {
      "cell_type": "code",
      "metadata": {
        "id": "3qGrF50HQZjx",
        "colab_type": "code",
        "colab": {
          "base_uri": "https://localhost:8080/",
          "height": 119
        },
        "outputId": "2688203e-9d75-4c51-a355-5c2a4595a51d"
      },
      "source": [
        "!rm -rf line_item_extraction\n",
        "!git clone https://github.com/strangest-quark/line_item_extraction.git"
      ],
      "execution_count": 2,
      "outputs": [
        {
          "output_type": "stream",
          "text": [
            "Cloning into 'line_item_extraction'...\n",
            "remote: Enumerating objects: 93, done.\u001b[K\n",
            "remote: Counting objects: 100% (93/93), done.\u001b[K\n",
            "remote: Compressing objects: 100% (80/80), done.\u001b[K\n",
            "remote: Total 93 (delta 41), reused 45 (delta 12), pack-reused 0\u001b[K\n",
            "Unpacking objects: 100% (93/93), done.\n"
          ],
          "name": "stdout"
        }
      ]
    },
    {
      "cell_type": "markdown",
      "metadata": {
        "id": "IeEoJPAla_Rh",
        "colab_type": "text"
      },
      "source": [
        "## 3. Pdf to Images and XML\n"
      ]
    },
    {
      "cell_type": "code",
      "metadata": {
        "id": "1wF4v_dpbLFC",
        "colab_type": "code",
        "colab": {
          "base_uri": "https://localhost:8080/",
          "height": 439
        },
        "outputId": "ce8e671d-d63c-4ce7-b048-37814b692933"
      },
      "source": [
        "!rm -rf /content/line_item_extraction/results\n",
        "import os\n",
        "from pdf2image import convert_from_path, convert_from_bytes\n",
        "from PIL import Image\n",
        "import subprocess\n",
        "\n",
        "from pdfminer.converter import TextConverter\n",
        "from pdfminer.pdfinterp import PDFPageInterpreter\n",
        "from pdfminer.pdfinterp import PDFResourceManager\n",
        "from pdfminer.pdfpage import PDFPage\n",
        "\n",
        "\n",
        "pdf_directory = '/content/line_item_extraction/sample_docs'\n",
        "res_directory = '/content/line_item_extraction/results'\n",
        "#cmd = 'pdftohtml -i -c -noframes -xml '\n",
        "cmd2 = 'pdf2txt.py -t xml --line-marg 2.0 --char-margin 1.0 '\n",
        "results = []\n",
        "\n",
        "\n",
        "\n",
        "for filename in os.listdir(pdf_directory):\n",
        "    if filename.endswith(\".pdf\"):\n",
        "      print(filename)\n",
        "      \n",
        "      \n",
        "      os.makedirs(res_directory+'/'+filename[:-4])\n",
        "      #full_cmd = cmd+pdf_directory+'/'+filename+' '+res_directory+'/'+filename[:-4]+'/'+filename[:-4]+'.xml'\n",
        "      #print(full_cmd)\n",
        "      #print(extract_text_from_pdf(pdf_directory+'/'+filename))\n",
        "      full_cmd = cmd2+ '-o ' + res_directory+'/'+filename[:-4] + '/' + filename[:-4]+'.xml ' + pdf_directory+'/'+filename\n",
        "      #full_cmd = cmd+pdf_directory+'/'+filename+' '+res_directory+'/'+filename[:-4]+'/'+filename[:-4]+'.xml'\n",
        "      print(full_cmd)\n",
        "      print(\" \")\n",
        "      !{full_cmd}\n",
        "      images = convert_from_path(pdf_directory+'/'+filename)\n",
        "      i = 0\n",
        "      print(i)\n",
        "      os.makedirs(res_directory+'/'+filename[:-4]+'/img')\n",
        "      for image in images:\n",
        "        image.save(res_directory+'/'+filename[:-4]+'/img/'+str(i)+'.png', format='PNG')\n",
        "        i=i+1\n",
        " \n",
        "\n",
        "\n"
      ],
      "execution_count": 3,
      "outputs": [
        {
          "output_type": "stream",
          "text": [
            "Redacted_RoyalBankCanada.pdf\n",
            "pdf2txt.py -t xml --line-marg 2.0 --char-margin 1.0 -o /content/line_item_extraction/results/Redacted_RoyalBankCanada/Redacted_RoyalBankCanada.xml /content/line_item_extraction/sample_docs/Redacted_RoyalBankCanada.pdf\n",
            " \n",
            "0\n"
          ],
          "name": "stdout"
        },
        {
          "output_type": "error",
          "ename": "KeyError",
          "evalue": "ignored",
          "traceback": [
            "\u001b[0;31m---------------------------------------------------------------------------\u001b[0m",
            "\u001b[0;31mKeyError\u001b[0m                                  Traceback (most recent call last)",
            "\u001b[0;32m<ipython-input-3-6d9fa873efbb>\u001b[0m in \u001b[0;36m<module>\u001b[0;34m()\u001b[0m\n\u001b[1;32m     38\u001b[0m       \u001b[0mos\u001b[0m\u001b[0;34m.\u001b[0m\u001b[0mmakedirs\u001b[0m\u001b[0;34m(\u001b[0m\u001b[0mres_directory\u001b[0m\u001b[0;34m+\u001b[0m\u001b[0;34m'/'\u001b[0m\u001b[0;34m+\u001b[0m\u001b[0mfilename\u001b[0m\u001b[0;34m[\u001b[0m\u001b[0;34m:\u001b[0m\u001b[0;34m-\u001b[0m\u001b[0;36m4\u001b[0m\u001b[0;34m]\u001b[0m\u001b[0;34m+\u001b[0m\u001b[0;34m'/img'\u001b[0m\u001b[0;34m)\u001b[0m\u001b[0;34m\u001b[0m\u001b[0;34m\u001b[0m\u001b[0m\n\u001b[1;32m     39\u001b[0m       \u001b[0;32mfor\u001b[0m \u001b[0mimage\u001b[0m \u001b[0;32min\u001b[0m \u001b[0mimages\u001b[0m\u001b[0;34m:\u001b[0m\u001b[0;34m\u001b[0m\u001b[0;34m\u001b[0m\u001b[0m\n\u001b[0;32m---> 40\u001b[0;31m         \u001b[0mimage\u001b[0m\u001b[0;34m.\u001b[0m\u001b[0msave\u001b[0m\u001b[0;34m(\u001b[0m\u001b[0mres_directory\u001b[0m\u001b[0;34m+\u001b[0m\u001b[0;34m'/'\u001b[0m\u001b[0;34m+\u001b[0m\u001b[0mfilename\u001b[0m\u001b[0;34m[\u001b[0m\u001b[0;34m:\u001b[0m\u001b[0;34m-\u001b[0m\u001b[0;36m4\u001b[0m\u001b[0;34m]\u001b[0m\u001b[0;34m+\u001b[0m\u001b[0;34m'/img/'\u001b[0m\u001b[0;34m+\u001b[0m\u001b[0mstr\u001b[0m\u001b[0;34m(\u001b[0m\u001b[0mi\u001b[0m\u001b[0;34m)\u001b[0m\u001b[0;34m+\u001b[0m\u001b[0;34m'.png'\u001b[0m\u001b[0;34m,\u001b[0m \u001b[0mformat\u001b[0m\u001b[0;34m=\u001b[0m\u001b[0;34m'PNG'\u001b[0m\u001b[0;34m)\u001b[0m\u001b[0;34m\u001b[0m\u001b[0;34m\u001b[0m\u001b[0m\n\u001b[0m\u001b[1;32m     41\u001b[0m         \u001b[0mi\u001b[0m\u001b[0;34m=\u001b[0m\u001b[0mi\u001b[0m\u001b[0;34m+\u001b[0m\u001b[0;36m1\u001b[0m\u001b[0;34m\u001b[0m\u001b[0;34m\u001b[0m\u001b[0m\n\u001b[1;32m     42\u001b[0m \u001b[0;34m\u001b[0m\u001b[0m\n",
            "\u001b[0;32m/usr/local/lib/python3.6/dist-packages/PIL/Image.py\u001b[0m in \u001b[0;36msave\u001b[0;34m(self, fp, format, **params)\u001b[0m\n\u001b[1;32m   2089\u001b[0m \u001b[0;34m\u001b[0m\u001b[0m\n\u001b[1;32m   2090\u001b[0m     \u001b[0;32mdef\u001b[0m \u001b[0mseek\u001b[0m\u001b[0;34m(\u001b[0m\u001b[0mself\u001b[0m\u001b[0;34m,\u001b[0m \u001b[0mframe\u001b[0m\u001b[0;34m)\u001b[0m\u001b[0;34m:\u001b[0m\u001b[0;34m\u001b[0m\u001b[0;34m\u001b[0m\u001b[0m\n\u001b[0;32m-> 2091\u001b[0;31m         \"\"\"\n\u001b[0m\u001b[1;32m   2092\u001b[0m         \u001b[0mSeeks\u001b[0m \u001b[0mto\u001b[0m \u001b[0mthe\u001b[0m \u001b[0mgiven\u001b[0m \u001b[0mframe\u001b[0m \u001b[0;32min\u001b[0m \u001b[0mthis\u001b[0m \u001b[0msequence\u001b[0m \u001b[0mfile\u001b[0m\u001b[0;34m.\u001b[0m \u001b[0mIf\u001b[0m \u001b[0myou\u001b[0m \u001b[0mseek\u001b[0m\u001b[0;34m\u001b[0m\u001b[0;34m\u001b[0m\u001b[0m\n\u001b[1;32m   2093\u001b[0m         \u001b[0mbeyond\u001b[0m \u001b[0mthe\u001b[0m \u001b[0mend\u001b[0m \u001b[0mof\u001b[0m \u001b[0mthe\u001b[0m \u001b[0msequence\u001b[0m\u001b[0;34m,\u001b[0m \u001b[0mthe\u001b[0m \u001b[0mmethod\u001b[0m \u001b[0mraises\u001b[0m \u001b[0man\u001b[0m\u001b[0;34m\u001b[0m\u001b[0;34m\u001b[0m\u001b[0m\n",
            "\u001b[0;31mKeyError\u001b[0m: 'PNG'"
          ]
        }
      ]
    },
    {
      "cell_type": "markdown",
      "metadata": {
        "id": "5tJFeJMMQvlv",
        "colab_type": "text"
      },
      "source": [
        "## 3. Download the Pretrained Model\n"
      ]
    },
    {
      "cell_type": "code",
      "metadata": {
        "id": "VNcfZA_bQ0ZR",
        "colab_type": "code",
        "colab": {
          "base_uri": "https://localhost:8080/",
          "height": 85
        },
        "outputId": "124a1d11-f6eb-44be-9e5d-ff88a85d5dfb"
      },
      "source": [
        "!gdown \"https://drive.google.com/u/0/uc?id=1-QieHkR1Q7CXuBu4fp3rYrvDG9j26eFT\""
      ],
      "execution_count": 3,
      "outputs": [
        {
          "output_type": "stream",
          "text": [
            "Downloading...\n",
            "From: https://drive.google.com/u/0/uc?id=1-QieHkR1Q7CXuBu4fp3rYrvDG9j26eFT\n",
            "To: /content/epoch_36.pth\n",
            "664MB [00:03, 179MB/s]\n"
          ],
          "name": "stdout"
        }
      ]
    },
    {
      "cell_type": "markdown",
      "metadata": {
        "id": "0ChCNzJSRCtD",
        "colab_type": "text"
      },
      "source": [
        "## 4. Run the Predictions"
      ]
    },
    {
      "cell_type": "code",
      "metadata": {
        "id": "e0P85mJJQ304",
        "colab_type": "code",
        "colab": {
          "base_uri": "https://localhost:8080/",
          "height": 368
        },
        "outputId": "1f61ce4f-cc49-4307-8ee0-fa71bdb5c661"
      },
      "source": [
        "from mmdet.apis import init_detector, inference_detector, show_result_pyplot\n",
        "import mmcv\n",
        "# Load model\n",
        "config_file = '/content/line_item_extraction/config/cascade_mask_rcnn_hrnetv2p_w32_20e.py'\n",
        "checkpoint_file = '/content/epoch_36.pth'\n",
        "# build the model from a config file and a checkpoint file\n",
        "\"\"\"Initialize a detector from config file.\n",
        "Args:\n",
        "    Config file path\n",
        "    Checkpoint path. If left as None, the model  \n",
        "        will not load any weights.  \n",
        "Returns:\n",
        "    nn.Module: The constructed detector.\"\"\"\n",
        "model = init_detector(config_file, checkpoint_file, device='cuda:0')\n",
        "\n",
        "directory = '/content/line_item_extraction/results/RedactedPayPal_sample3/img/'\n",
        "\n",
        "results = []\n",
        "\n",
        "for filename in os.listdir(directory):\n",
        "    if filename.endswith(\".png\"):\n",
        "      # Run Inference\n",
        "      \"\"\" \n",
        "      Inference image(s) with the detector.\n",
        "   Args:\n",
        "    model (nn.Module): The loaded detector.  \n",
        "    imgs (str/ndarray or list[str/ndarray]): Either image files or loaded  \n",
        "        images.  \n",
        "  Returns:\n",
        "    If imgs is a str, a generator will be returned, otherwise return the  \n",
        "    detection results directly.\n",
        "      \"\"\"\n",
        "      results.append(inference_detector(model, directory+'/'+filename))\n",
        "      # Visualization results\n",
        "      \"\"\"\n",
        "      Visualize the detection results on the image.\n",
        "Args:\n",
        "    img (str or np.ndarray): Image filename or loaded image.  \n",
        "    result (tuple[list] or list): The detection result, can be either  \n",
        "        (bbox, segm) or just bbox.  \n",
        "    class_names (list[str] or tuple[str]): A list of class names.  \n",
        "    score_thr (float): The threshold to visualize the bboxes and masks.  \n",
        "    fig_size (tuple): Figure size of the pyplot figure.  \n",
        "    out_file (str, optional): If specified, the visualization result will  \n",
        "        be written to the out file instead of shown in a window.  \n",
        "      \"\"\"\n",
        "      show_result_pyplot(directory+'/'+filename, results[-1],('Bordered', 'cell', 'Borderless'), score_thr=0.15)"
      ],
      "execution_count": 2,
      "outputs": [
        {
          "output_type": "error",
          "ename": "ModuleNotFoundError",
          "evalue": "ignored",
          "traceback": [
            "\u001b[0;31m---------------------------------------------------------------------------\u001b[0m",
            "\u001b[0;31mModuleNotFoundError\u001b[0m                       Traceback (most recent call last)",
            "\u001b[0;32m<ipython-input-2-665340024365>\u001b[0m in \u001b[0;36m<module>\u001b[0;34m()\u001b[0m\n\u001b[0;32m----> 1\u001b[0;31m \u001b[0;32mfrom\u001b[0m \u001b[0mmmdet\u001b[0m\u001b[0;34m.\u001b[0m\u001b[0mapis\u001b[0m \u001b[0;32mimport\u001b[0m \u001b[0minit_detector\u001b[0m\u001b[0;34m,\u001b[0m \u001b[0minference_detector\u001b[0m\u001b[0;34m,\u001b[0m \u001b[0mshow_result_pyplot\u001b[0m\u001b[0;34m\u001b[0m\u001b[0;34m\u001b[0m\u001b[0m\n\u001b[0m\u001b[1;32m      2\u001b[0m \u001b[0;32mimport\u001b[0m \u001b[0mmmcv\u001b[0m\u001b[0;34m\u001b[0m\u001b[0;34m\u001b[0m\u001b[0m\n\u001b[1;32m      3\u001b[0m \u001b[0;31m# Load model\u001b[0m\u001b[0;34m\u001b[0m\u001b[0;34m\u001b[0m\u001b[0;34m\u001b[0m\u001b[0m\n\u001b[1;32m      4\u001b[0m \u001b[0mconfig_file\u001b[0m \u001b[0;34m=\u001b[0m \u001b[0;34m'/content/line_item_extraction/config/cascade_mask_rcnn_hrnetv2p_w32_20e.py'\u001b[0m\u001b[0;34m\u001b[0m\u001b[0;34m\u001b[0m\u001b[0m\n\u001b[1;32m      5\u001b[0m \u001b[0mcheckpoint_file\u001b[0m \u001b[0;34m=\u001b[0m \u001b[0;34m'/content/epoch_36.pth'\u001b[0m\u001b[0;34m\u001b[0m\u001b[0;34m\u001b[0m\u001b[0m\n",
            "\u001b[0;31mModuleNotFoundError\u001b[0m: No module named 'mmdet'",
            "",
            "\u001b[0;31m---------------------------------------------------------------------------\u001b[0;32m\nNOTE: If your import is failing due to a missing package, you can\nmanually install dependencies using either !pip or !apt.\n\nTo view examples of installing some common dependencies, click the\n\"Open Examples\" button below.\n\u001b[0;31m---------------------------------------------------------------------------\u001b[0m\n"
          ]
        }
      ]
    },
    {
      "cell_type": "markdown",
      "metadata": {
        "id": "-Lr020DuWXUg",
        "colab_type": "text"
      },
      "source": [
        "After this, use TSR postprocessing for best result"
      ]
    },
    {
      "cell_type": "code",
      "metadata": {
        "id": "fwGFRXcQjRRu",
        "colab_type": "code",
        "colab": {
          "base_uri": "https://localhost:8080/",
          "height": 326
        },
        "outputId": "2a2b7039-06e5-419c-d23d-0abecc284780"
      },
      "source": [
        "%cd \"/content\"\n",
        "from line_item_extraction.border_main import border\n",
        "import lxml.etree as etree\n",
        "import cv2\n",
        "from google.colab.patches import cv2_imshow\n",
        "from mmdet.apis import inference_detector, show_result, init_detector\n",
        "import glob\n",
        "from line_item_extraction.cell_text import borderless\n",
        "\n",
        "result = results[0]\n",
        "\n",
        "image_path = '/content/line_item_extraction/results/RedactedPayPal_sample3/img/'\n",
        "xmlPath = '/content/line_item_extraction/results/'\n",
        "\n",
        "config_fname = \"/content/line_item_extraction/config/cascade_mask_rcnn_hrnetv2p_w32_20e.py\" \n",
        "checkpoint_path = \"/content/\"\n",
        "epoch = 'epoch_36.pth'\n",
        "\n",
        "model = init_detector(config_fname, checkpoint_path+epoch)\n",
        "\n",
        "imgs=[]\n",
        "\n",
        "# List of images in the image_path\n",
        "for filename in os.listdir(image_path):\n",
        "    if filename.endswith(\".png\"):\n",
        "      imgs.append(image_path+filename)\n",
        "print(imgs)\n",
        "for i in imgs:\n",
        "  for i in imgs:\n",
        "    try:\n",
        "      result = inference_detector(model, i)\n",
        "      res_border = []\n",
        "      res_bless = []\n",
        "      res_cell = []\n",
        "      root = etree.Element(\"document\")\n",
        "      ## for border\n",
        "      for r in result[0][0]:\n",
        "        if r[4] > .85:\n",
        "            res_border.append(r[:4].astype(int))\n",
        "      ## for cells\n",
        "      for r in result[0][1]:\n",
        "          if r[4] > .85:\n",
        "              r[4] = r[4] * 100\n",
        "              res_cell.append(r.astype(int))\n",
        "      ## for borderless\n",
        "      for r in result[0][2]:\n",
        "          if r[4] > .85:\n",
        "              res_bless.append(r[:4].astype(int))\n",
        "\n",
        "      ## if border tables detected\n",
        "      if len(res_border) != 0:\n",
        "          ## call border script for each table in image\n",
        "          for res in res_border:\n",
        "              try:\n",
        "                  root.append(border(res, cv2.imread(i)))\n",
        "              except:\n",
        "                  pass\n",
        "      if len(res_bless) != 0:\n",
        "          if len(res_cell) != 0:\n",
        "              for no, res in enumerate(res_bless):\n",
        "                  root.append(borderless(res, cv2.imread(i), res_cell))\n",
        "      myfile = open(xmlPath + i.split('/')[-1][:-3] + 'xml', \"w\")\n",
        "      myfile.write('<?xml version=\"1.0\" encoding=\"UTF-8\"?>\\n')\n",
        "      myfile.write(etree.tostring(root, pretty_print=True, encoding=\"unicode\"))\n",
        "      myfile.close()\n",
        "    except e:\n",
        "      print(\"Error\")\n",
        "      "
      ],
      "execution_count": 16,
      "outputs": [
        {
          "output_type": "stream",
          "text": [
            "/content\n",
            "['/content/line_item_extraction/results/RedactedPayPal_sample3/img/0.png', '/content/line_item_extraction/results/RedactedPayPal_sample3/img/2.png', '/content/line_item_extraction/results/RedactedPayPal_sample3/img/1.png']\n",
            "[Table status] : Processing table with lines\n",
            "[Table status] : Processing table with lines\n",
            "[Table status] : Processing table with lines\n",
            "[Table status] : Processing table with lines\n",
            "[Table status] : Processing table with lines\n",
            "[Table status] : Processing table with lines\n",
            "[Table status] : Processing table with lines\n",
            "[Table status] : Processing table with lines\n",
            "[Table status] : Processing table with lines\n",
            "[Table status] : Processing table with lines\n",
            "[Table status] : Processing table with lines\n",
            "[Table status] : Processing table with lines\n",
            "[Table status] : Processing table with lines\n",
            "[Table status] : Processing table with lines\n",
            "[Table status] : Processing table with lines\n"
          ],
          "name": "stdout"
        }
      ]
    },
    {
      "cell_type": "code",
      "metadata": {
        "id": "TaBq-8oMaE68",
        "colab_type": "code",
        "colab": {
          "base_uri": "https://localhost:8080/",
          "height": 34
        },
        "outputId": "e17fec7e-9474-43f7-db2a-0122ddf54f2e"
      },
      "source": [
        "!pip install pdfrw\n",
        "from pdfrw import PdfReader\n",
        "import xml.etree.ElementTree as et\n",
        "import numpy\n",
        "\n",
        "pdf = PdfReader('/content/line_item_extraction/sample_docs/RedactedPayPal_sample3.pdf')\n",
        "from PIL import Image\n",
        "im = Image.open('/content/line_item_extraction/results/RedactedPayPal_sample3/img/0.png')\n",
        "\n",
        "def TranslateFromMachineCode(src, pdf, im):\n",
        "        sx0, sy0, sx1, sy1 = src\n",
        "        pdfWidth, pdfHeight = (int(pdf.pages[0].MediaBox[2]),int(pdf.pages[0].MediaBox[3]))\n",
        "        imageWidth, imageHeight = im.size # size of png image 612x1008.  #1700x2800\n",
        "        sy01 = imageHeight-sy1\n",
        "        sy11 = imageHeight-sy0\n",
        "        x0 = sx0/imageWidth*pdfWidth\n",
        "        x1 = sx1/imageWidth*pdfWidth\n",
        "        y0 = sy01/imageHeight*pdfHeight\n",
        "        y1 = sy11/imageHeight*pdfHeight\n",
        "        return (x0, y0, x1, y1)\n",
        "\n",
        "def getText(textline):\n",
        "  txt = ''\n",
        "  for text in textline.getchildren():\n",
        "      txt = txt+text.text\n",
        "  return txt\n",
        "\n",
        "def getTextFromPdf(points, pdf, page):\n",
        "  found = False\n",
        "  tree = et.ElementTree(file='/content/line_item_extraction/results/RedactedPayPal_sample3/RedactedPayPal_sample3.xml')\n",
        "  page = tree.getroot().getchildren()[page]\n",
        "  textboxes = page.getchildren()\n",
        "  for textbox in textboxes:\n",
        "    textlines = textbox.getchildren()\n",
        "    for textline in textlines:\n",
        "      if 'bbox' not in textline.attrib:\n",
        "        continue\n",
        "      coods = textline.attrib['bbox'].split(',')\n",
        "      coods = [float(i) for i in coods] \n",
        "      points = [float(i) for i in points]\n",
        "      diff = numpy.sum((numpy.asarray(points)-numpy.asarray(coods))**2)\n",
        "      if diff<20:\n",
        "        found = True\n",
        "        txt = getText(textline)\n",
        "        #print(coods, points, numpy.sum((numpy.asarray(points)-numpy.asarray(coods))**2), txt)\n",
        "        return txt\n",
        "  if not found:\n",
        "    return found\n"
      ],
      "execution_count": 17,
      "outputs": [
        {
          "output_type": "stream",
          "text": [
            "Requirement already satisfied: pdfrw in /usr/local/lib/python3.6/dist-packages (0.4)\n"
          ],
          "name": "stdout"
        }
      ]
    },
    {
      "cell_type": "code",
      "metadata": {
        "id": "RH3O9BKgwRTq",
        "colab_type": "code",
        "colab": {
          "base_uri": "https://localhost:8080/",
          "height": 1000
        },
        "outputId": "3243b6a8-382c-4226-e80f-990c98f79995"
      },
      "source": [
        "import xml.etree.ElementTree as et\n",
        "import lxml.etree as etree\n",
        "\n",
        "tree = et.ElementTree(file='/content/line_item_extraction/results/0.xml')\n",
        "tables = tree.getroot().getchildren()\n",
        "foundCount = 0\n",
        "notFoundCount = 0\n",
        "\n",
        "\n",
        "bank_statement = etree.Element(\"bank_statement\")\n",
        "\n",
        "for table in tables:\n",
        "  cells = table.getchildren()[1:]\n",
        "  maxCol = 1;\n",
        "  for cell in cells:\n",
        "    #print(\"cell.attrib\",cell.attrib['end-col'])\n",
        "    if int(cell.attrib['end-col']) > maxCol:\n",
        "      maxCol = int(cell.attrib['end-col'])\n",
        "  if maxCol > 2:   \n",
        "    table.set(\"lineItems\", \"true\")\n",
        "  else:\n",
        "    table.set(\"lineItems\", \"false\")  \n",
        "\n",
        "for table in tables:\n",
        "  if table.attrib['lineItems'] == \"true\":\n",
        "    line_items = etree.SubElement(bank_statement, 'line_items')\n",
        "  else:  \n",
        "    line_items = etree.SubElement(bank_statement, 'others')\n",
        "  cells = table.getchildren()[1:]\n",
        "  key = ''\n",
        "  startRow = 999\n",
        "  headers = etree.SubElement(line_items, 'headers')\n",
        "  headerStr = \"\"\n",
        "  for cell in cells:\n",
        "    coords = cell.getchildren()\n",
        "    points = coords[0].attrib['points']\n",
        "    point0 = int(points.split(' ')[0].split(',')[0])\n",
        "    point1 = int(points.split(' ')[0].split(',')[1])\n",
        "    point2 = int(points.split(' ')[2].split(',')[0])\n",
        "    point3 = int(points.split(' ')[2].split(',')[1])\n",
        "    text = getTextFromPdf(TranslateFromMachineCode((point0,point1,point2,point3), pdf, im), pdf, 0)\n",
        "\n",
        "    if table.attrib['lineItems'] == \"true\":\n",
        "      if cell.attrib['start-row'] == '0':\n",
        "        if text == False:\n",
        "          text = 'unknown'\n",
        "        headerStr = \"\".join((headerStr, ', '+str(text)))\n",
        "      else:\n",
        "        if startRow != int(cell.attrib['start-row']):\n",
        "          row = etree.SubElement(line_items, 'row')\n",
        "        startRow = int(cell.attrib['start-row'])\n",
        "        if text == False:\n",
        "          keys = etree.SubElement(row, 'key')\n",
        "          keys.text='unknown'\n",
        "        else:  \n",
        "          keys = etree.SubElement(row, 'key')\n",
        "          keys.text=text.strip()\n",
        "    else:\n",
        "      if cell.attrib['start-col'] == '0':\n",
        "        if text == False:\n",
        "          key = etree.SubElement(line_items, 'unknown')\n",
        "        else:  \n",
        "          key = etree.SubElement(line_items, ''.join(filter(str.isalnum, str(text))))\n",
        "      else:\n",
        "        if text == False:\n",
        "          key.text='unknown'\n",
        "        else:  \n",
        "          key.text=text\n",
        "\n",
        "    if text != False:\n",
        "      foundCount = foundCount+1\n",
        "      textNode = et.Element(\"text\")\n",
        "      textNode.text = text\n",
        "      cell.append(textNode)\n",
        "    else:\n",
        "      notFoundCount = notFoundCount+1\n",
        "  if len(headerStr) > 0:\n",
        "    headers.text =  headerStr\n",
        "\n",
        "print('mapped='+str(foundCount)+' no matches='+str(notFoundCount))\n",
        "# tree.write(open('/content/mapped.xml', 'wb'))\n",
        "# x = etree.parse(\"/content/mapped.xml\")\n",
        "#print(etree.tostring(x, pretty_print=True).decode())\n",
        "\n",
        "myfile = open('/content/mappedNew.xml', \"w\")\n",
        "myfile.write('<?xml version=\"1.0\" encoding=\"UTF-8\"?>\\n')\n",
        "myfile.write(etree.tostring(bank_statement, pretty_print=True, encoding=\"unicode\"))\n",
        "myfile.close()\n",
        "print(etree.tostring(bank_statement, pretty_print=True).decode())\n",
        "\n",
        "\n",
        "\n",
        "\n"
      ],
      "execution_count": 18,
      "outputs": [
        {
          "output_type": "stream",
          "text": [
            "mapped=94 no matches=11\n",
            "<bank_statement>\n",
            "  <line_items>\n",
            "    <headers>, Tran Date\n",
            ", unknown, Reference Number\n",
            ", Description\n",
            ",  Amount\n",
            "</headers>\n",
            "    <row>\n",
            "      <key>05/15/20</key>\n",
            "      <key>05/15/20</key>\n",
            "      <key>P928300GS01DXNVTM</key>\n",
            "      <key>unknown</key>\n",
            "      <key>-$276.59</key>\n",
            "      <key>unknown</key>\n",
            "    </row>\n",
            "    <row>\n",
            "      <key>-$276.59</key>\n",
            "    </row>\n",
            "    <row>\n",
            "      <key>unknown</key>\n",
            "    </row>\n",
            "    <row>\n",
            "      <key>Tran Date</key>\n",
            "      <key>Posting Date</key>\n",
            "      <key>Reference Number</key>\n",
            "      <key>Type</key>\n",
            "      <key>Description</key>\n",
            "      <key>Amount</key>\n",
            "    </row>\n",
            "    <row>\n",
            "      <key>04/30/20</key>\n",
            "      <key>04/30/20</key>\n",
            "      <key>P928300GAEHM6YX6A</key>\n",
            "      <key>Standard</key>\n",
            "      <key>KEEPCALLING</key>\n",
            "      <key>$7.65</key>\n",
            "    </row>\n",
            "    <row>\n",
            "      <key>04/30/20</key>\n",
            "      <key>04/30/20</key>\n",
            "      <key>P928300GAEHM6YX62</key>\n",
            "      <key>Standard</key>\n",
            "      <key>KEEPCALLING</key>\n",
            "      <key>$7.65</key>\n",
            "    </row>\n",
            "    <row>\n",
            "      <key>05/06/20</key>\n",
            "      <key>05/06/20</key>\n",
            "      <key>P928300GGEHM6WW9D</key>\n",
            "      <key>Standard</key>\n",
            "      <key>WALMART COM</key>\n",
            "      <key>$50.00</key>\n",
            "    </row>\n",
            "    <row>\n",
            "      <key>05/07/20</key>\n",
            "      <key>05/07/20</key>\n",
            "      <key>P928300GHEHM6VBPB</key>\n",
            "      <key>Standard</key>\n",
            "      <key>KEEPCALLING</key>\n",
            "      <key>$22.13</key>\n",
            "    </row>\n",
            "    <row>\n",
            "      <key>05/08/20</key>\n",
            "      <key>05/08/20</key>\n",
            "      <key>P928300GKEHM6VJ1M</key>\n",
            "      <key>Standard</key>\n",
            "      <key>KEEPCALLING</key>\n",
            "      <key>$22.13</key>\n",
            "    </row>\n",
            "    <row>\n",
            "      <key>05/08/20</key>\n",
            "      <key>05/08/20</key>\n",
            "      <key>P928300GKEHM6VJ13</key>\n",
            "      <key>Standard</key>\n",
            "      <key>KEEPCALLING</key>\n",
            "      <key>$22.13</key>\n",
            "    </row>\n",
            "    <row>\n",
            "      <key>05/09/20</key>\n",
            "      <key>05/09/20</key>\n",
            "      <key>P928300GKEHM6MZYQ</key>\n",
            "      <key>Standard</key>\n",
            "      <key>FACEBOOK FACEBOOK AD</key>\n",
            "      <key>$55.96</key>\n",
            "    </row>\n",
            "    <row>\n",
            "      <key>05/10/20</key>\n",
            "      <key>05/10/20</key>\n",
            "      <key>P928300GLEHM6KDSR</key>\n",
            "      <key>Standard</key>\n",
            "      <key>WALMART COM</key>\n",
            "      <key>$25.00</key>\n",
            "    </row>\n",
            "    <row>\n",
            "      <key>05/11/20</key>\n",
            "      <key>05/11/20</key>\n",
            "      <key>P928300GMEHM6VP47</key>\n",
            "      <key>Standard</key>\n",
            "      <key>KEEPCALLING</key>\n",
            "      <key>$11.63</key>\n",
            "    </row>\n",
            "    <row>\n",
            "      <key>05/15/20</key>\n",
            "      <key>05/15/20</key>\n",
            "      <key>P928300GSEHM6T47D</key>\n",
            "      <key>Standard</key>\n",
            "      <key>KEEPCALLING</key>\n",
            "      <key>$11.63</key>\n",
            "    </row>\n",
            "  </line_items>\n",
            "  <others>\n",
            "    <headers/>\n",
            "    <unknown>$1,672.26\n",
            "</unknown>\n",
            "    <PaymentsCredits>$276.59\n",
            "</PaymentsCredits>\n",
            "    <PurchasesAdjustments>$235.91\n",
            "</PurchasesAdjustments>\n",
            "    <INTERESTCHARGES>unknown</INTERESTCHARGES>\n",
            "    <NewBalance>$1,631.58\n",
            "</NewBalance>\n",
            "    <CreditLimit>$6,970.00\n",
            "</CreditLimit>\n",
            "    <AvailableCredit>$5,338.00\n",
            "</AvailableCredit>\n",
            "  </others>\n",
            "  <others>\n",
            "    <headers/>\n",
            "    <unknown>$1,631.58\n",
            "</unknown>\n",
            "    <PaymentDueDate>unknown</PaymentDueDate>\n",
            "    <SeeReverse>$235.91\n",
            "</SeeReverse>\n",
            "    <accountandeach>unknown</accountandeach>\n",
            "    <monthyoupay>unknown</monthyoupay>\n",
            "    <unknown>unknown</unknown>\n",
            "  </others>\n",
            "</bank_statement>\n",
            "\n"
          ],
          "name": "stdout"
        }
      ]
    },
    {
      "cell_type": "code",
      "metadata": {
        "id": "mJGRFf2sBpL8",
        "colab_type": "code",
        "colab": {}
      },
      "source": [
        ""
      ],
      "execution_count": null,
      "outputs": []
    }
  ]
}